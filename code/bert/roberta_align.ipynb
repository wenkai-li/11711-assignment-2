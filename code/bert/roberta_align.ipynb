{
 "cells": [
  {
   "cell_type": "code",
   "execution_count": 1,
   "metadata": {},
   "outputs": [
    {
     "data": {
      "text/plain": [
       "array(['DatasetName', 'HyperparameterName', 'HyperparameterValue',\n",
       "       'MethodName', 'MetricName', 'MetricValue', 'O', 'TaskName'],\n",
       "      dtype=object)"
      ]
     },
     "execution_count": 1,
     "metadata": {},
     "output_type": "execute_result"
    }
   ],
   "source": [
    "import numpy as np\n",
    "from copy import deepcopy\n",
    "path = 'test_output_2.csv'\n",
    "load_data = np.loadtxt(fname=path,skiprows=1,usecols=1,delimiter=',',dtype=object)\n",
    "new_data = deepcopy(load_data)\n",
    "\n",
    "np.unique(load_data)"
   ]
  },
  {
   "cell_type": "code",
   "execution_count": 2,
   "metadata": {},
   "outputs": [
    {
     "name": "stdout",
     "output_type": "stream",
     "text": [
      "['O' 'O' 'O' ... 'O' 'O' 'O']\n",
      "B-DatasetName\n",
      "B-HyperparameterName\n",
      "B-HyperparameterValue\n",
      "B-MethodName\n",
      "B-MetricName\n",
      "B-MetricValue\n",
      "B-TaskName\n",
      "I-DatasetName\n",
      "I-HyperparameterName\n",
      "I-MethodName\n",
      "I-MetricName\n",
      "I-MetricValue\n",
      "I-TaskName\n",
      "O\n"
     ]
    }
   ],
   "source": [
    "n = len(load_data)\n",
    "i = 0\n",
    "before = ''\n",
    "while i < n:\n",
    "    if load_data[i]=='O':\n",
    "        i += 1\n",
    "        before = ''\n",
    "        continue\n",
    "    if load_data[i] == before:\n",
    "        new_data[i] = 'I-' + load_data[i]\n",
    "        i += 1\n",
    "    else:\n",
    "        new_data[i] = 'B-' + load_data[i]\n",
    "        before = load_data[i]\n",
    "        i += 1\n",
    "print(new_data)\n",
    "for i in np.unique(new_data):\n",
    "    print(i)\n",
    "    "
   ]
  },
  {
   "cell_type": "code",
   "execution_count": 3,
   "metadata": {},
   "outputs": [],
   "source": [
    "output_path ='test_output_modify_2.csv'\n",
    "with open(output_path, 'w') as f:\n",
    "    print(\"id,target\",file=f)\n",
    "    for t, p in enumerate(new_data):\n",
    "        print(str(t+1)+','+p,file=f)"
   ]
  }
 ],
 "metadata": {
  "kernelspec": {
   "display_name": "anlp2",
   "language": "python",
   "name": "python3"
  },
  "language_info": {
   "codemirror_mode": {
    "name": "ipython",
    "version": 3
   },
   "file_extension": ".py",
   "mimetype": "text/x-python",
   "name": "python",
   "nbconvert_exporter": "python",
   "pygments_lexer": "ipython3",
   "version": "3.10.13"
  }
 },
 "nbformat": 4,
 "nbformat_minor": 2
}
