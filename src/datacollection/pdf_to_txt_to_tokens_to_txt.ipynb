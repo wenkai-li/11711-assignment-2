{
 "cells": [
  {
   "cell_type": "code",
   "execution_count": 1,
   "metadata": {},
   "outputs": [],
   "source": [
    "import os\n",
    "import fnmatch\n",
    "import scipdf\n",
    "import spacy\n",
    "from tqdm import tqdm\n",
    "\n",
    "nlp = spacy.load('en_core_web_sm')"
   ]
  },
  {
   "cell_type": "code",
   "execution_count": 2,
   "metadata": {},
   "outputs": [],
   "source": [
    "def find_pdf_files(directory_path):\n",
    "    pdf_files = []\n",
    "    for root,_,files in os.walk(directory_path):\n",
    "        for file in files:\n",
    "            if fnmatch.fnmatch(file,'*.pdf'):\n",
    "                pdf_files.append((root,file))\n",
    "    return pdf_files"
   ]
  },
  {
   "cell_type": "code",
   "execution_count": 3,
   "metadata": {},
   "outputs": [],
   "source": [
    "\n",
    "def extract_txt_from_pdf(pdf_file):\n",
    "    article_dict = scipdf.parse_pdf_to_dict(pdf_file)\n",
    "    output = article_dict['title'] + ' ' + article_dict['abstract'] + ' '\n",
    "    for section in article_dict['sections']:\n",
    "        output += section['heading'] + ' ' + section['text'] + ' '\n",
    "    return output"
   ]
  },
  {
   "cell_type": "code",
   "execution_count": 4,
   "metadata": {},
   "outputs": [
    {
     "name": "stderr",
     "output_type": "stream",
     "text": [
      "100%|██████████| 5032/5032 [00:01<00:00, 3466.05it/s]\n"
     ]
    }
   ],
   "source": [
    "directory_path = 'NLPPapers/'\n",
    "output_directory = 'NLPPapersTXT/'\n",
    "pdf_files= find_pdf_files(directory_path)\n",
    "for pdf_path, pdf_name in tqdm(pdf_files):\n",
    "    input_file = os.path.join(pdf_path,pdf_name)\n",
    "    pdf_name = pdf_name.replace('.pdf','.txt')\n",
    "    output_file = os.path.join(output_directory ,pdf_name)\n",
    "    if os.path.isfile(output_file)==False:\n",
    "        try:\n",
    "            txt = extract_txt_from_pdf(input_file)\n",
    "            with open(output_file,'w') as fd:\n",
    "                fd.write(txt)\n",
    "        except:\n",
    "            continue\n",
    "    "
   ]
  },
  {
   "cell_type": "code",
   "execution_count": 5,
   "metadata": {},
   "outputs": [],
   "source": [
    "def find_txt_files(directory_path):\n",
    "    txt_files = []\n",
    "    for root,_,files in os.walk(directory_path):\n",
    "        for file in files:\n",
    "            if fnmatch.fnmatch(file,'*.txt'):\n",
    "                txt_files.append((root,file))\n",
    "    return txt_files"
   ]
  },
  {
   "cell_type": "code",
   "execution_count": 6,
   "metadata": {},
   "outputs": [],
   "source": [
    "def txt_to_tokens(input_file_path):\n",
    "    with open(input_file_path,'r', encoding='utf-8') as input_file:\n",
    "        text =input_file.read()\n",
    "    doc = nlp(text)\n",
    "    temp = []\n",
    "    for token in doc:\n",
    "        if token.text != '\\n':\n",
    "            temp.append(token.text)\n",
    "    output = ' '.join(temp)\n",
    "    output += '\\n'\n",
    "    return output\n",
    "    "
   ]
  },
  {
   "cell_type": "code",
   "execution_count": 7,
   "metadata": {},
   "outputs": [
    {
     "name": "stderr",
     "output_type": "stream",
     "text": [
      "100%|██████████| 5030/5030 [51:58<00:00,  1.61it/s]  \n"
     ]
    }
   ],
   "source": [
    "directory_path = 'NLPPapersTXT/'\n",
    "output_path = 'allpapers.txt'\n",
    "txt_files= find_txt_files(directory_path)\n",
    "with open(output_path,'w') as fd:\n",
    "    for txt_path, txt_name in tqdm(txt_files):\n",
    "        input_file = os.path.join(txt_path,txt_name)\n",
    "        txt = txt_to_tokens(input_file)\n",
    "        print(txt,file=fd)"
   ]
  }
 ],
 "metadata": {
  "kernelspec": {
   "display_name": "scipdf",
   "language": "python",
   "name": "python3"
  },
  "language_info": {
   "codemirror_mode": {
    "name": "ipython",
    "version": 3
   },
   "file_extension": ".py",
   "mimetype": "text/x-python",
   "name": "python",
   "nbconvert_exporter": "python",
   "pygments_lexer": "ipython3",
   "version": "3.9.18"
  },
  "orig_nbformat": 4
 },
 "nbformat": 4,
 "nbformat_minor": 2
}
